{
 "cells": [
  {
   "cell_type": "markdown",
   "id": "ccc02ed0",
   "metadata": {},
   "source": [
    "# Activities\n",
    "This example shows activities."
   ]
  },
  {
   "cell_type": "code",
   "execution_count": 1,
   "id": "f3d5cda9",
   "metadata": {},
   "outputs": [
    {
     "data": {
      "text/plain": [
       "Package LoginActions (6b1d1a61-ac42-423f-a776-22eee869e571)\n"
      ]
     },
     "execution_count": 1,
     "metadata": {},
     "output_type": "execute_result"
    }
   ],
   "source": [
    "package LoginActions {\n",
    "    \n",
    "    attribute isLoggedIn : ScalarValues::Boolean; \n",
    "    \n",
    "\n",
    "    action loginUser { \n",
    "        first start;\n",
    "\n",
    "        //then merge continue;\n",
    "        \n",
    "        then action 'Validate payload'  {}\n",
    "        \n",
    "        then decide decision1;\n",
    "        if isLoggedIn == true then 'Generate JWT token';\n",
    "        if isLoggedIn == false then 'Return 401 Unauthorized';\n",
    "        \n",
    "        then action 'Generate JWT token' {}\n",
    "        then action 'Return 200 OK' {}\n",
    "        then done;\n",
    "        \n",
    "        then action 'Return 401 Unauthorized'  {}\n",
    "        then done;\n",
    "\n",
    "        \n",
    "    }\n",
    "}"
   ]
  },
  {
   "cell_type": "code",
   "execution_count": 2,
   "id": "0e458475",
   "metadata": {},
   "outputs": [
    {
     "data": {
      "image/svg+xml": [
       "<?xml version=\"1.0\" encoding=\"UTF-8\" standalone=\"no\"?><svg xmlns=\"http://www.w3.org/2000/svg\" xmlns:xlink=\"http://www.w3.org/1999/xlink\" contentStyleType=\"text/css\" height=\"372px\" preserveAspectRatio=\"none\" style=\"width:417px;height:372px;background:#FFFFFF;\" version=\"1.1\" viewBox=\"0 0 417 372\" width=\"417px\" zoomAndPan=\"magnify\"><defs/><g><!--MD5=[fbc87193dbaf4d95561dea2c320d4a47]\n",
       "cluster E1--><g id=\"cluster_E1\"><a href=\"psysml:41682f83-1a62-482b-a29f-9f7ea6f4a5ba\" target=\"_top\" title=\"psysml:41682f83-1a62-482b-a29f-9f7ea6f4a5ba\" xlink:actuate=\"onRequest\" xlink:href=\"psysml:41682f83-1a62-482b-a29f-9f7ea6f4a5ba\" xlink:show=\"new\" xlink:title=\"psysml:41682f83-1a62-482b-a29f-9f7ea6f4a5ba\" xlink:type=\"simple\"><rect fill=\"#FFFFFF\" height=\"359\" id=\"E1\" rx=\"10\" ry=\"10\" style=\"stroke:#A80036;stroke-width:1.5;\" width=\"281\" x=\"42\" y=\"7\"/><rect fill=\"#F1F1F1\" height=\"40.2656\" rx=\"10\" ry=\"10\" style=\"stroke:#F1F1F1;stroke-width:1.5;\" width=\"281\" x=\"42\" y=\"7\"/><rect fill=\"#F1F1F1\" height=\"10\" style=\"stroke:#F1F1F1;stroke-width:1.5;\" width=\"281\" x=\"42\" y=\"37.2656\"/><rect fill=\"none\" height=\"359\" id=\"E1\" rx=\"10\" ry=\"10\" style=\"stroke:#A80036;stroke-width:1.5;\" width=\"281\" x=\"42\" y=\"7\"/><text fill=\"#000000\" font-family=\"sans-serif\" font-size=\"12\" font-style=\"italic\" lengthAdjust=\"spacing\" textLength=\"53\" x=\"156\" y=\"23.1387\">«action»</text><text fill=\"#000000\" font-family=\"sans-serif\" font-size=\"14\" lengthAdjust=\"spacing\" textLength=\"65\" x=\"150\" y=\"38.9639\">loginUser</text><line style=\"stroke:#A80036;stroke-width:1.0;\" x1=\"42\" x2=\"323\" y1=\"47.2656\" y2=\"47.2656\"/></a></g><g id=\"elem_E3\"><polygon fill=\"#F1F1F1\" points=\"146,139,158,151,146,163,134,151,146,139\" style=\"stroke:#181818;stroke-width:0.5;\"/></g><ellipse cx=\"146\" cy=\"68\" fill=\"#222222\" rx=\"10\" ry=\"10\" style=\"stroke:none;stroke-width:1.0;\"/><ellipse cx=\"134\" cy=\"340\" fill=\"none\" rx=\"10\" ry=\"10\" style=\"stroke:#222222;stroke-width:1.0;\"/><ellipse cx=\"134.5\" cy=\"340.5\" fill=\"#222222\" rx=\"6\" ry=\"6\" style=\"stroke:none;stroke-width:1.0;\"/><g><a href=\"psysml:faf04d88-3c2b-4473-99eb-9783ed66252c\" target=\"_top\" title=\"psysml:faf04d88-3c2b-4473-99eb-9783ed66252c\" xlink:actuate=\"onRequest\" xlink:href=\"psysml:faf04d88-3c2b-4473-99eb-9783ed66252c\" xlink:show=\"new\" xlink:title=\"psysml:faf04d88-3c2b-4473-99eb-9783ed66252c\" xlink:type=\"simple\"><rect fill=\"#F1F1F1\" height=\"45.2656\" id=\"E2\" rx=\"10\" ry=\"10\" style=\"stroke:#A80036;stroke-width:1.5;\" width=\"148\" x=\"72\" y=\"86\"/><ellipse cx=\"89.25\" cy=\"106.1328\" fill=\"#FFA500\" rx=\"11\" ry=\"11\" style=\"stroke:#181818;stroke-width:1.0;\"/><path d=\"M89.3906,112.8359 C92.0625,112.8359 93.3594,111.2422 93.3594,108.3672 L93.3594,101.5547 L90.9531,101.5547 L90.9531,108.6172 C90.9531,109.9453 90.4375,110.6797 89.3906,110.6797 C88.3281,110.6797 87.8438,109.9453 87.8438,108.6172 L87.8438,101.5547 L85.3438,101.5547 L85.3438,108.3672 C85.3438,111.2422 86.6875,112.8359 89.3906,112.8359 Z \" fill=\"#000000\"/><text fill=\"#000000\" font-family=\"sans-serif\" font-size=\"12\" font-style=\"italic\" lengthAdjust=\"spacing\" textLength=\"53\" x=\"132.75\" y=\"102.1387\">«action»</text><text fill=\"#000000\" font-family=\"sans-serif\" font-size=\"14\" lengthAdjust=\"spacing\" textLength=\"111\" x=\"103.75\" y=\"117.9639\">Validate payload</text></a></g><g><a href=\"psysml:848cdfa4-e5f5-4a52-adb2-af10ee6009b2\" target=\"_top\" title=\"psysml:848cdfa4-e5f5-4a52-adb2-af10ee6009b2\" xlink:actuate=\"onRequest\" xlink:href=\"psysml:848cdfa4-e5f5-4a52-adb2-af10ee6009b2\" xlink:show=\"new\" xlink:title=\"psysml:848cdfa4-e5f5-4a52-adb2-af10ee6009b2\" xlink:type=\"simple\"><rect fill=\"#F1F1F1\" height=\"45.2656\" id=\"E4\" rx=\"10\" ry=\"10\" style=\"stroke:#A80036;stroke-width:1.5;\" width=\"175\" x=\"58.5\" y=\"171\"/><ellipse cx=\"75.75\" cy=\"191.1328\" fill=\"#FFA500\" rx=\"11\" ry=\"11\" style=\"stroke:#181818;stroke-width:1.0;\"/><path d=\"M75.8906,197.8359 C78.5625,197.8359 79.8594,196.2422 79.8594,193.3672 L79.8594,186.5547 L77.4531,186.5547 L77.4531,193.6172 C77.4531,194.9453 76.9375,195.6797 75.8906,195.6797 C74.8281,195.6797 74.3438,194.9453 74.3438,193.6172 L74.3438,186.5547 L71.8438,186.5547 L71.8438,193.3672 C71.8438,196.2422 73.1875,197.8359 75.8906,197.8359 Z \" fill=\"#000000\"/><text fill=\"#000000\" font-family=\"sans-serif\" font-size=\"12\" font-style=\"italic\" lengthAdjust=\"spacing\" textLength=\"53\" x=\"132.75\" y=\"187.1387\">«action»</text><text fill=\"#000000\" font-family=\"sans-serif\" font-size=\"14\" lengthAdjust=\"spacing\" textLength=\"138\" x=\"90.25\" y=\"202.9639\">Generate JWT token</text></a></g><g><a href=\"psysml:73e7d6ca-74f1-4dd2-a0dd-133687b4be2e\" target=\"_top\" title=\"psysml:73e7d6ca-74f1-4dd2-a0dd-133687b4be2e\" xlink:actuate=\"onRequest\" xlink:href=\"psysml:73e7d6ca-74f1-4dd2-a0dd-133687b4be2e\" xlink:show=\"new\" xlink:title=\"psysml:73e7d6ca-74f1-4dd2-a0dd-133687b4be2e\" xlink:type=\"simple\"><rect fill=\"#F1F1F1\" height=\"45.2656\" id=\"E5\" rx=\"10\" ry=\"10\" style=\"stroke:#A80036;stroke-width:1.5;\" width=\"139\" x=\"76.5\" y=\"224\"/><ellipse cx=\"93.75\" cy=\"244.1328\" fill=\"#FFA500\" rx=\"11\" ry=\"11\" style=\"stroke:#181818;stroke-width:1.0;\"/><path d=\"M93.8906,250.8359 C96.5625,250.8359 97.8594,249.2422 97.8594,246.3672 L97.8594,239.5547 L95.4531,239.5547 L95.4531,246.6172 C95.4531,247.9453 94.9375,248.6797 93.8906,248.6797 C92.8281,248.6797 92.3438,247.9453 92.3438,246.6172 L92.3438,239.5547 L89.8438,239.5547 L89.8438,246.3672 C89.8438,249.2422 91.1875,250.8359 93.8906,250.8359 Z \" fill=\"#000000\"/><text fill=\"#000000\" font-family=\"sans-serif\" font-size=\"12\" font-style=\"italic\" lengthAdjust=\"spacing\" textLength=\"53\" x=\"132.75\" y=\"240.1387\">«action»</text><text fill=\"#000000\" font-family=\"sans-serif\" font-size=\"14\" lengthAdjust=\"spacing\" textLength=\"102\" x=\"108.25\" y=\"255.9639\">Return 200 OK</text></a></g><g><a href=\"psysml:350c4bac-4f5e-4f0d-8a92-6cafedb72217\" target=\"_top\" title=\"psysml:350c4bac-4f5e-4f0d-8a92-6cafedb72217\" xlink:actuate=\"onRequest\" xlink:href=\"psysml:350c4bac-4f5e-4f0d-8a92-6cafedb72217\" xlink:show=\"new\" xlink:title=\"psysml:350c4bac-4f5e-4f0d-8a92-6cafedb72217\" xlink:type=\"simple\"><rect fill=\"#F1F1F1\" height=\"45.2656\" id=\"E6\" rx=\"10\" ry=\"10\" style=\"stroke:#A80036;stroke-width:1.5;\" width=\"212\" x=\"95\" y=\"277\"/><ellipse cx=\"112.25\" cy=\"297.1328\" fill=\"#FFA500\" rx=\"11\" ry=\"11\" style=\"stroke:#181818;stroke-width:1.0;\"/><path d=\"M112.3906,303.8359 C115.0625,303.8359 116.3594,302.2422 116.3594,299.3672 L116.3594,292.5547 L113.9531,292.5547 L113.9531,299.6172 C113.9531,300.9453 113.4375,301.6797 112.3906,301.6797 C111.3281,301.6797 110.8438,300.9453 110.8438,299.6172 L110.8438,292.5547 L108.3438,292.5547 L108.3438,299.3672 C108.3438,302.2422 109.6875,303.8359 112.3906,303.8359 Z \" fill=\"#000000\"/><text fill=\"#000000\" font-family=\"sans-serif\" font-size=\"12\" font-style=\"italic\" lengthAdjust=\"spacing\" textLength=\"53\" x=\"187.75\" y=\"293.1387\">«action»</text><text fill=\"#000000\" font-family=\"sans-serif\" font-size=\"14\" lengthAdjust=\"spacing\" textLength=\"175\" x=\"126.75\" y=\"308.9639\">Return 401 Unauthorized</text></a></g><!--MD5=[cff944eb183b832d446717a4e202d613]\n",
       "link *start*E1 to E2--><g id=\"link_*start*E1_E2\"><a href=\"psysml:163c0f95-fc36-4f8e-ae81-b04b97260d89\" target=\"_top\" title=\"psysml:163c0f95-fc36-4f8e-ae81-b04b97260d89\" xlink:actuate=\"onRequest\" xlink:href=\"psysml:163c0f95-fc36-4f8e-ae81-b04b97260d89\" xlink:show=\"new\" xlink:title=\"psysml:163c0f95-fc36-4f8e-ae81-b04b97260d89\" xlink:type=\"simple\"><path d=\"M146,78.22 C146,78.22 146,80.79 146,80.79 \" fill=\"none\" id=\"*start*E1-to-E2\" style=\"stroke:#181818;stroke-width:1.0;stroke-dasharray:7.0,7.0;\"/><polygon fill=\"#181818\" points=\"146,85.79,150,76.79,146,80.79,142,76.79,146,85.79\" style=\"stroke:#181818;stroke-width:1.0;\"/></a></g><!--MD5=[7fc47fc0d107820853a137871ad908c8]\n",
       "link E5 to *end*E1--><g id=\"link_E5_*end*E1\"><a href=\"psysml:bf1fc97b-5b06-47a7-9e3f-1c33e3d3d6de\" target=\"_top\" title=\"psysml:bf1fc97b-5b06-47a7-9e3f-1c33e3d3d6de\" xlink:actuate=\"onRequest\" xlink:href=\"psysml:bf1fc97b-5b06-47a7-9e3f-1c33e3d3d6de\" xlink:show=\"new\" xlink:title=\"psysml:bf1fc97b-5b06-47a7-9e3f-1c33e3d3d6de\" xlink:type=\"simple\"><path d=\"M85.75,269.13 C85.75,296.81 85.75,340 85.75,340 C85.75,340 118.77,340 118.77,340 \" fill=\"none\" id=\"E5-to-*end*E1\" style=\"stroke:#181818;stroke-width:1.0;stroke-dasharray:7.0,7.0;\"/><polygon fill=\"#181818\" points=\"123.77,340,114.77,336,118.77,340,114.77,344,123.77,340\" style=\"stroke:#181818;stroke-width:1.0;\"/></a></g><!--MD5=[b015e9405558d97d437aa60cacde406a]\n",
       "link E6 to *end*E1--><g id=\"link_E6_*end*E1\"><a href=\"psysml:3e8f450d-7c3b-43c9-a2e8-10ed002839ed\" target=\"_top\" title=\"psysml:3e8f450d-7c3b-43c9-a2e8-10ed002839ed\" xlink:actuate=\"onRequest\" xlink:href=\"psysml:3e8f450d-7c3b-43c9-a2e8-10ed002839ed\" xlink:show=\"new\" xlink:title=\"psysml:3e8f450d-7c3b-43c9-a2e8-10ed002839ed\" xlink:type=\"simple\"><path d=\"M134,322.12 C134,322.12 134,325 134,325 \" fill=\"none\" id=\"E6-to-*end*E1\" style=\"stroke:#181818;stroke-width:1.0;stroke-dasharray:7.0,7.0;\"/><polygon fill=\"#181818\" points=\"134,330,138,321,134,325,130,321,134,330\" style=\"stroke:#181818;stroke-width:1.0;\"/></a></g><!--MD5=[2720a5a1f2c3fca2055b230370638851]\n",
       "link E2 to E3--><g id=\"link_E2_E3\"><a href=\"psysml:dbb4f1ae-33c7-4854-9cb0-c0d4cb1783cb\" target=\"_top\" title=\"psysml:dbb4f1ae-33c7-4854-9cb0-c0d4cb1783cb\" xlink:actuate=\"onRequest\" xlink:href=\"psysml:dbb4f1ae-33c7-4854-9cb0-c0d4cb1783cb\" xlink:show=\"new\" xlink:title=\"psysml:dbb4f1ae-33c7-4854-9cb0-c0d4cb1783cb\" xlink:type=\"simple\"><path d=\"M146,131.24 C146,131.24 146,133.59 146,133.59 \" fill=\"none\" id=\"E2-to-E3\" style=\"stroke:#181818;stroke-width:1.0;stroke-dasharray:7.0,7.0;\"/><polygon fill=\"#181818\" points=\"146,138.59,150,129.59,146,133.59,142,129.59,146,138.59\" style=\"stroke:#181818;stroke-width:1.0;\"/></a></g><!--MD5=[af87c684e3b0d8be13c1a698a818ef1e]\n",
       "link E3 to E4--><g id=\"link_E3_E4\"><a href=\"psysml:43d015b3-3927-4261-b652-32160461858f\" target=\"_top\" title=\"psysml:43d015b3-3927-4261-b652-32160461858f\" xlink:actuate=\"onRequest\" xlink:href=\"psysml:43d015b3-3927-4261-b652-32160461858f\" xlink:show=\"new\" xlink:title=\"psysml:43d015b3-3927-4261-b652-32160461858f\" xlink:type=\"simple\"><path d=\"M142,159.19 C142,159.19 142,165.83 142,165.83 \" fill=\"none\" id=\"E3-to-E4\" style=\"stroke:#181818;stroke-width:1.0;stroke-dasharray:7.0,7.0;\"/><polygon fill=\"#181818\" points=\"142,170.83,146,161.83,142,165.83,138,161.83,142,170.83\" style=\"stroke:#181818;stroke-width:1.0;\"/><text fill=\"#000000\" font-family=\"sans-serif\" font-size=\"13\" lengthAdjust=\"spacing\" textLength=\"134\" x=\"7\" y=\"158.5769\">[isLoggedIn == true]</text></a></g><!--MD5=[af87c684e3b0d8be13c1a698a818ef1e]\n",
       "link E3 to E4--><g id=\"link_E3_E4\"><a href=\"psysml:f7e30a7a-8857-4805-a2a2-cae15a0c9a5d\" target=\"_top\" title=\"psysml:f7e30a7a-8857-4805-a2a2-cae15a0c9a5d\" xlink:actuate=\"onRequest\" xlink:href=\"psysml:f7e30a7a-8857-4805-a2a2-cae15a0c9a5d\" xlink:show=\"new\" xlink:title=\"psysml:f7e30a7a-8857-4805-a2a2-cae15a0c9a5d\" xlink:type=\"simple\"><path d=\"M150,159.19 C150,159.19 150,165.83 150,165.83 \" fill=\"none\" id=\"E3-to-E4-1\" style=\"stroke:#181818;stroke-width:1.0;stroke-dasharray:7.0,7.0;\"/><polygon fill=\"#181818\" points=\"150,170.83,154,161.83,150,165.83,146,161.83,150,170.83\" style=\"stroke:#181818;stroke-width:1.0;\"/></a></g><!--MD5=[ec9844e0c75763426927cad3229d1081]\n",
       "link E3 to E6--><g id=\"link_E3_E6\"><a href=\"psysml:4a0680f0-4a67-4cbc-8a13-ea82d17590c9\" target=\"_top\" title=\"psysml:4a0680f0-4a67-4cbc-8a13-ea82d17590c9\" xlink:actuate=\"onRequest\" xlink:href=\"psysml:4a0680f0-4a67-4cbc-8a13-ea82d17590c9\" xlink:show=\"new\" xlink:title=\"psysml:4a0680f0-4a67-4cbc-8a13-ea82d17590c9\" xlink:type=\"simple\"><path d=\"M158.37,151 C189.8,151 270.25,151 270.25,151 C270.25,151 270.25,271.95 270.25,271.95 \" fill=\"none\" id=\"E3-to-E6\" style=\"stroke:#181818;stroke-width:1.0;stroke-dasharray:7.0,7.0;\"/><polygon fill=\"#181818\" points=\"270.25,276.95,274.25,267.95,270.25,271.95,266.25,267.95,270.25,276.95\" style=\"stroke:#181818;stroke-width:1.0;\"/><text fill=\"#000000\" font-family=\"sans-serif\" font-size=\"13\" lengthAdjust=\"spacing\" textLength=\"138\" x=\"271.25\" y=\"151.5969\">[isLoggedIn == false]</text></a></g><!--MD5=[1b7591eae5389033d8d09a9d6721a717]\n",
       "link E4 to E5--><g id=\"link_E4_E5\"><a href=\"psysml:253e9593-50e8-4370-a73d-853cb7d5ee75\" target=\"_top\" title=\"psysml:253e9593-50e8-4370-a73d-853cb7d5ee75\" xlink:actuate=\"onRequest\" xlink:href=\"psysml:253e9593-50e8-4370-a73d-853cb7d5ee75\" xlink:show=\"new\" xlink:title=\"psysml:253e9593-50e8-4370-a73d-853cb7d5ee75\" xlink:type=\"simple\"><path d=\"M146,216.28 C146,216.28 146,218.73 146,218.73 \" fill=\"none\" id=\"E4-to-E5\" style=\"stroke:#181818;stroke-width:1.0;stroke-dasharray:7.0,7.0;\"/><polygon fill=\"#181818\" points=\"146,223.73,150,214.73,146,218.73,142,214.73,146,223.73\" style=\"stroke:#181818;stroke-width:1.0;\"/></a></g><!--MD5=[9120cf2e5df3bff93db8f754bbbc09b4]\n",
       "link E5 to E6--><g id=\"link_E5_E6\"><a href=\"psysml:d279cf1f-82a0-4425-9a78-c62414c1c11b\" target=\"_top\" title=\"psysml:d279cf1f-82a0-4425-9a78-c62414c1c11b\" xlink:actuate=\"onRequest\" xlink:href=\"psysml:d279cf1f-82a0-4425-9a78-c62414c1c11b\" xlink:show=\"new\" xlink:title=\"psysml:d279cf1f-82a0-4425-9a78-c62414c1c11b\" xlink:type=\"simple\"><path d=\"M155.25,269.28 C155.25,269.28 155.25,271.73 155.25,271.73 \" fill=\"none\" id=\"E5-to-E6\" style=\"stroke:#181818;stroke-width:1.0;stroke-dasharray:7.0,7.0;\"/><polygon fill=\"#181818\" points=\"155.25,276.73,159.25,267.73,155.25,271.73,151.25,267.73,155.25,276.73\" style=\"stroke:#181818;stroke-width:1.0;\"/></a></g><!--MD5=[4e2fe99554779482b1f739c4b6b7b259]\n",
       "@startuml\r\n",
       " skinparam linetype ortho\r\n",
       "skinparam ranksep 8\r\n",
       "\r\n",
       "rec usage \"loginUser\" as E1  << <<(U,orange) action>> [[psysml:41682f83-1a62-482b-a29f-9f7ea6f4a5ba ]] {\r\n",
       "rec usage \"Validate payload\" as E2  << <<(U,orange) action>> [[psysml:faf04d88-3c2b-4473-99eb-9783ed66252c ]] {\r\n",
       "}\r\n",
       "\r\n",
       "choice \"decision1\" as E3  [[psysml:12648f59-0f64-459d-9921-98237c1171bb ]] \r\n",
       "rec usage \"Generate JWT token\" as E4  << <<(U,orange) action>> [[psysml:848cdfa4-e5f5-4a52-adb2-af10ee6009b2 ]] {\r\n",
       "}\r\n",
       "\r\n",
       "rec usage \"Return 200 OK\" as E5  << <<(U,orange) action>> [[psysml:73e7d6ca-74f1-4dd2-a0dd-133687b4be2e ]] {\r\n",
       "}\r\n",
       "\r\n",
       "rec usage \"Return 401 Unauthorized\" as E6  << <<(U,orange) action>> [[psysml:350c4bac-4f5e-4f0d-8a92-6cafedb72217 ]] {\r\n",
       "}\r\n",
       "\r\n",
       "[*] ..> E2 [[psysml:163c0f95-fc36-4f8e-ae81-b04b97260d89 ]] \r\n",
       "E5 ..> [*] [[psysml:bf1fc97b-5b06-47a7-9e3f-1c33e3d3d6de ]] \r\n",
       "E6 ..> [*] [[psysml:3e8f450d-7c3b-43c9-a2e8-10ed002839ed ]] \r\n",
       "}\r\n",
       "\r\n",
       "E2 ..> E3 [[psysml:dbb4f1ae-33c7-4854-9cb0-c0d4cb1783cb ]] \r\n",
       "E3 ..> E4 [[psysml:43d015b3-3927-4261-b652-32160461858f ]] : [isLoggedIn == true]\r\n",
       "E3 ..> E6 [[psysml:4a0680f0-4a67-4cbc-8a13-ea82d17590c9 ]] : [isLoggedIn == false]\r\n",
       "E3 ..> E4 [[psysml:f7e30a7a-8857-4805-a2a2-cae15a0c9a5d ]] \r\n",
       "E4 ..> E5 [[psysml:253e9593-50e8-4370-a73d-853cb7d5ee75 ]] \r\n",
       "E5 ..> E6 [[psysml:d279cf1f-82a0-4425-9a78-c62414c1c11b ]] \r\n",
       "@enduml\r\n",
       "\n",
       "PlantUML version 1.2022.7(Mon Aug 22 17:01:30 UTC 2022)\n",
       "(EPL source distribution)\n",
       "Java Runtime: OpenJDK Runtime Environment\n",
       "JVM: OpenJDK 64-Bit Server VM\n",
       "Default Encoding: UTF-8\n",
       "Language: en\n",
       "Country: US\n",
       "--></g></svg>"
      ]
     },
     "execution_count": 2,
     "metadata": {},
     "output_type": "execute_result"
    }
   ],
   "source": [
    "%viz --style PLANTUML --style ORTHOLINE LoginActions::loginUser"
   ]
  },
  {
   "cell_type": "code",
   "execution_count": 26,
   "id": "4f57d8d6",
   "metadata": {},
   "outputs": [
    {
     "data": {
      "text/plain": [
       "Usage: %viz [--view=<VIEW>] [--style=<STYLE>...] <NAME> [<NAME>...]\n",
       "\n",
       "Visualize model elements of <NAME>(s). <NAME>s must be fully qualified.\n",
       "\n",
       "<VIEW> is case insensitive and possible candidates are:\n",
       "   DEFAULT\t\tAutomatically choose an appropriate view from the given model element names\n",
       "   TREE\t\t\tShow a tree-structural view, like a Block Definition Diagram (BDD)\n",
       "   INTERCONNECTION\tShow an interconnection view, like an Internal Block Diagram (IBD)\n",
       "   STATE\t\tShow state machines\n",
       "   ACTION\t\tShow actions like an activity diagram\n",
       "   SEQUENCE\t\tShow events and messages in a sequence diagram\n",
       "   MIXED\t\tShow multiple views\n",
       "\n",
       "<STYLE> is also case insensitive. Multiple --style options are allowed.  The possible style names are:\n",
       "  DEFAULT\t\tStandard B&&W\n",
       "  STDCOLOR\t\tStandard style with colors\n",
       "  PLANTUML\t\tPlantUML Style\n",
       "  TB\t\t\tTop-to-Bottom orientation\n",
       "  LR\t\t\tLeft-to-Right orientation\n",
       "  POLYLINE\t\tPolyline style\n",
       "  ORTHOLINE\t\tOrthogonal line style\n",
       "  SHOWLIB\t\tShow elements of the standard libraries\n",
       "  SHOWINHERITED\t\tShow inherited members\n",
       "  COMPMOST\t\tShow as many memberships in a compartment as possible\n",
       "  COMPTREE\t\tShow nested ports in a compartment\n",
       "  SHOWIMPORTED\t\tShow imported elements\n",
       "  HIDEMETADATA\t\tHide metadata\n",
       "  SHOWMETACLASS\t\tShow metaclasses of metaobjects\n",
       "  EVAL\t\tEvaluate expressions\n",
       "\n",
       "Example:\n",
       "\t%viz --view Tree --style LR --style ortholine Pkg1::PartDef Pkg1::Pkg2::partUsage\n",
       "should visualize Pkg1::PartDef and Pkg1::Pkg2::partUsage with a tree view ordered in the left-to-right direction with orthogonal lines.\n"
      ]
     },
     "execution_count": 26,
     "metadata": {},
     "output_type": "execute_result"
    }
   ],
   "source": [
    "%viz"
   ]
  },
  {
   "cell_type": "code",
   "execution_count": null,
   "id": "180b883b",
   "metadata": {},
   "outputs": [],
   "source": []
  }
 ],
 "metadata": {
  "kernelspec": {
   "display_name": "SysML",
   "language": "sysml",
   "name": "sysml"
  },
  "language_info": {
   "codemirror_mode": "sysml",
   "file_extension": ".sysml",
   "mimetype": "text/x-sysml",
   "name": "SysML",
   "pygments_lexer": "java",
   "version": "1.0.0"
  }
 },
 "nbformat": 4,
 "nbformat_minor": 5
}
