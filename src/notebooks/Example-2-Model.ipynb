{
 "cells": [
  {
   "cell_type": "code",
   "execution_count": 1,
   "id": "e6b64167",
   "metadata": {},
   "outputs": [
    {
     "data": {
      "text/plain": [
       "Package Model (915a6d3a-06e7-44ef-ab13-98a37114090e)\n"
      ]
     },
     "execution_count": 1,
     "metadata": {},
     "output_type": "execute_result"
    }
   ],
   "source": [
    "package Model {\n",
    "    \n",
    "    package PartDefs {\n",
    "        part def Part1 { \n",
    "            attribute attribute1;\n",
    "            perform action action1; \n",
    "        } \n",
    "        part def Part2 { \n",
    "            attribute attribute2;\n",
    "            perform action action2; \n",
    "\n",
    "        } \n",
    "    }\n",
    "    \n",
    "    package Logical {\n",
    "        part part1 : PartDefs::Part1 { \n",
    "            doc /* part1\n",
    "                 * Part 1 is a part with the number one (1) appended.\n",
    "                 */\n",
    "            attribute attribute2; \n",
    "            port p1_1; \n",
    "            port p1_2; \n",
    "        }\n",
    "        part part2: PartDefs::Part2 {\n",
    "            port p2_1;\n",
    "            port p2_2;\n",
    "        }\n",
    "        \n",
    "        comment about part2 /* This is a comment about part 2 */\n",
    "        \n",
    "        bind part1.p1_1 = part2.p2_1; \n",
    "        connect part2.p2_2 to part1.p1_2; \n",
    "    }\n",
    "}\n"
   ]
  },
  {
   "cell_type": "code",
   "execution_count": 2,
   "id": "b6e83441",
   "metadata": {},
   "outputs": [
    {
     "data": {
      "image/svg+xml": [
       "<?xml version=\"1.0\" encoding=\"UTF-8\" standalone=\"no\"?><svg xmlns=\"http://www.w3.org/2000/svg\" xmlns:xlink=\"http://www.w3.org/1999/xlink\" contentStyleType=\"text/css\" height=\"261px\" preserveAspectRatio=\"none\" style=\"width:1130px;height:261px;background:#FFFFFF;\" version=\"1.1\" viewBox=\"0 0 1130 261\" width=\"1130px\" zoomAndPan=\"magnify\"><defs/><g><!--MD5=[fbc87193dbaf4d95561dea2c320d4a47]\n",
       "cluster E1--><g id=\"cluster_E1\"><a href=\"psysml:ce3bf99c-2b2c-46e4-a975-72aa17d0ac73\" target=\"_top\" title=\"psysml:ce3bf99c-2b2c-46e4-a975-72aa17d0ac73\" xlink:actuate=\"onRequest\" xlink:href=\"psysml:ce3bf99c-2b2c-46e4-a975-72aa17d0ac73\" xlink:show=\"new\" xlink:title=\"psysml:ce3bf99c-2b2c-46e4-a975-72aa17d0ac73\" xlink:type=\"simple\"><polygon fill=\"none\" points=\"16,6,77,6,84,28.2969,1113.72,28.2969,1113.72,254,16,254,16,6\" style=\"stroke:#000000;stroke-width:1.5;\"/><line style=\"stroke:#000000;stroke-width:1.5;\" x1=\"16\" x2=\"84\" y1=\"28.2969\" y2=\"28.2969\"/><text fill=\"#000000\" font-family=\"sans-serif\" font-size=\"14\" font-weight=\"bold\" lengthAdjust=\"spacing\" textLength=\"55\" x=\"20\" y=\"20.9951\">Logical</text></a></g><!--MD5=[e4f7fae6ed58524ba242bb0b0d3be6b7]\n",
       "cluster E2--><g id=\"cluster_E2\"><a href=\"psysml:36a94e26-1a6c-47ec-be0e-2f9c636c2740\" target=\"_top\" title=\"psysml:36a94e26-1a6c-47ec-be0e-2f9c636c2740\" xlink:actuate=\"onRequest\" xlink:href=\"psysml:36a94e26-1a6c-47ec-be0e-2f9c636c2740\" xlink:show=\"new\" xlink:title=\"psysml:36a94e26-1a6c-47ec-be0e-2f9c636c2740\" xlink:type=\"simple\"><rect fill=\"#FFFFFF\" height=\"96\" id=\"E2\" rx=\"10\" ry=\"10\" style=\"stroke:#383838;stroke-width:1.5;\" width=\"428.36\" x=\"170.5\" y=\"54\"/><text fill=\"#000000\" font-family=\"sans-serif\" font-size=\"14\" lengthAdjust=\"spacing\" textLength=\"81\" x=\"344.18\" y=\"71.9951\">part1: Part1</text><line style=\"stroke:#383838;stroke-width:1.0;\" x1=\"170.5\" x2=\"598.86\" y1=\"80.2969\" y2=\"80.2969\"/></a></g><!--MD5=[168fadf3d0c3fd93dd5d6da1b1d7ab76]\n",
       "cluster E7--><g id=\"cluster_E7\"><a href=\"psysml:e2290e44-8e0d-4fa6-8451-28366672eb22\" target=\"_top\" title=\"psysml:e2290e44-8e0d-4fa6-8451-28366672eb22\" xlink:actuate=\"onRequest\" xlink:href=\"psysml:e2290e44-8e0d-4fa6-8451-28366672eb22\" xlink:show=\"new\" xlink:title=\"psysml:e2290e44-8e0d-4fa6-8451-28366672eb22\" xlink:type=\"simple\"><rect fill=\"#FFFFFF\" height=\"21\" id=\"E7\" rx=\"10\" ry=\"10\" style=\"stroke:#383838;stroke-width:1.5;\" width=\"344.86\" x=\"748.86\" y=\"73\"/><text fill=\"#000000\" font-family=\"sans-serif\" font-size=\"14\" lengthAdjust=\"spacing\" textLength=\"81\" x=\"880.79\" y=\"90.9951\">part2: Part2</text><line style=\"stroke:#383838;stroke-width:1.0;\" x1=\"748.86\" x2=\"1093.72\" y1=\"99.2969\" y2=\"99.2969\"/></a></g><g id=\"elem_E3\"><path d=\"M32,166.5 L32,237.0313 L309,237.0313 L309,176.5 L299,166.5 L32,166.5 \" fill=\"#FAFAFA\" style=\"stroke:#181818;stroke-width:0.5;\"/><path d=\"M299,166.5 L299,176.5 L309,176.5 L299,166.5 \" fill=\"#FAFAFA\" style=\"stroke:#181818;stroke-width:1.0;\"/><a href=\"psysml:6c5c9897-67f3-4de6-a5d9-e77772f33724\" target=\"_top\" title=\"psysml:6c5c9897-67f3-4de6-a5d9-e77772f33724\" xlink:actuate=\"onRequest\" xlink:href=\"psysml:6c5c9897-67f3-4de6-a5d9-e77772f33724\" xlink:show=\"new\" xlink:title=\"psysml:6c5c9897-67f3-4de6-a5d9-e77772f33724\" xlink:type=\"simple\"><text fill=\"#000000\" font-family=\"sans-serif\" font-size=\"13\" lengthAdjust=\"spacing\" text-decoration=\"underline\" textLength=\"13\" x=\"38\" y=\"183.5669\">@</text></a><text fill=\"#000000\" font-family=\"sans-serif\" font-size=\"13\" lengthAdjust=\"spacing\" textLength=\"34\" x=\"51\" y=\"183.5669\">part1</text><text fill=\"#000000\" font-family=\"sans-serif\" font-size=\"13\" lengthAdjust=\"spacing\" textLength=\"252\" x=\"38\" y=\"198.6997\">Part 1 is a part with the number one (1)</text><text fill=\"#000000\" font-family=\"sans-serif\" font-size=\"13\" lengthAdjust=\"spacing\" textLength=\"68\" x=\"38\" y=\"213.8325\">appended.</text><text fill=\"#000000\" font-family=\"sans-serif\" font-size=\"13\" lengthAdjust=\"spacing\" textLength=\"4\" x=\"38\" y=\"228.9653\"> </text></g><g id=\"elem_E10\"><path d=\"M649.86,140.5 L649.86,165.6328 L883.86,165.6328 L883.86,150.5 L873.86,140.5 L649.86,140.5 \" fill=\"#FAFAFA\" style=\"stroke:#181818;stroke-width:0.5;\"/><path d=\"M873.86,140.5 L873.86,150.5 L883.86,150.5 L873.86,140.5 \" fill=\"#FAFAFA\" style=\"stroke:#181818;stroke-width:1.0;\"/><a href=\"psysml:a6db6e7d-5965-425e-9eb3-7112c85bb330\" target=\"_top\" title=\"psysml:a6db6e7d-5965-425e-9eb3-7112c85bb330\" xlink:actuate=\"onRequest\" xlink:href=\"psysml:a6db6e7d-5965-425e-9eb3-7112c85bb330\" xlink:show=\"new\" xlink:title=\"psysml:a6db6e7d-5965-425e-9eb3-7112c85bb330\" xlink:type=\"simple\"><text fill=\"#000000\" font-family=\"sans-serif\" font-size=\"13\" lengthAdjust=\"spacing\" text-decoration=\"underline\" textLength=\"13\" x=\"655.86\" y=\"157.5669\">@</text></a><text fill=\"#000000\" font-family=\"sans-serif\" font-size=\"13\" lengthAdjust=\"spacing\" textLength=\"200\" x=\"668.86\" y=\"157.5669\">This is a comment about part 2</text></g><!--MD5=[ebbe1d658d1005bcc118a6aa81145e00]\n",
       "class E4--><a href=\"psysml:054f12e5-d164-4316-a067-67fa5239e580\" target=\"_top\" title=\"psysml:054f12e5-d164-4316-a067-67fa5239e580\" xlink:actuate=\"onRequest\" xlink:href=\"psysml:054f12e5-d164-4316-a067-67fa5239e580\" xlink:show=\"new\" xlink:title=\"psysml:054f12e5-d164-4316-a067-67fa5239e580\" xlink:type=\"simple\"><g id=\"elem_E4\"><rect fill=\"#FFFFFF\" height=\"48.2656\" id=\"E4\" rx=\"10\" ry=\"10\" style=\"stroke:#181818;stroke-width:0.5;\" width=\"81\" x=\"470\" y=\"78\"/><text fill=\"#000000\" font-family=\"sans-serif\" font-size=\"12\" font-style=\"italic\" lengthAdjust=\"spacing\" textLength=\"69\" x=\"476\" y=\"94.1387\">«attribute»</text><text fill=\"#000000\" font-family=\"sans-serif\" font-size=\"14\" lengthAdjust=\"spacing\" textLength=\"67\" x=\"473\" y=\"109.9639\">attribute2</text><line style=\"stroke:#181818;stroke-width:0.5;\" x1=\"471\" x2=\"550\" y1=\"118.2656\" y2=\"118.2656\"/></g></a><text fill=\"#000000\" font-family=\"sans-serif\" font-size=\"14\" lengthAdjust=\"spacing\" textLength=\"34\" x=\"577.86\" y=\"73.6982\">p1_1</text><rect fill=\"#FFFFFF\" height=\"12\" style=\"stroke:#181818;stroke-width:1.5;\" width=\"12\" x=\"592.86\" y=\"89\"/><text fill=\"#000000\" font-family=\"sans-serif\" font-size=\"14\" lengthAdjust=\"spacing\" textLength=\"34\" x=\"149.5\" y=\"63.6982\">p1_2</text><rect fill=\"#FFFFFF\" height=\"12\" style=\"stroke:#181818;stroke-width:1.5;\" width=\"12\" x=\"164.5\" y=\"79\"/><text fill=\"#000000\" font-family=\"sans-serif\" font-size=\"14\" lengthAdjust=\"spacing\" textLength=\"34\" x=\"745.86\" y=\"112.9951\">p2_1</text><rect fill=\"#FFFFFF\" height=\"12\" style=\"stroke:#181818;stroke-width:1.5;\" width=\"12\" x=\"760.86\" y=\"88\"/><text fill=\"#000000\" font-family=\"sans-serif\" font-size=\"14\" lengthAdjust=\"spacing\" textLength=\"34\" x=\"1054.72\" y=\"51.6982\">p2_2</text><rect fill=\"#FFFFFF\" height=\"12\" style=\"stroke:#181818;stroke-width:1.5;\" width=\"12\" x=\"1069.72\" y=\"67\"/><!--MD5=[05d275557350bfb9b23a4ef7222b4c39]\n",
       "link E3 to E2--><g id=\"link_E3_E2\"><a href=\"psysml:6c5c9897-67f3-4de6-a5d9-e77772f33724\" target=\"_top\" title=\"psysml:6c5c9897-67f3-4de6-a5d9-e77772f33724\" xlink:actuate=\"onRequest\" xlink:href=\"psysml:6c5c9897-67f3-4de6-a5d9-e77772f33724\" xlink:show=\"new\" xlink:title=\"psysml:6c5c9897-67f3-4de6-a5d9-e77772f33724\" xlink:type=\"simple\"><path d=\"M282.49,166.48 C298.12,161.48 309,158 309,158 C309,158 311.9494,156.1125 316.7652,153.0305 C317.9691,152.26 319.2897,151.4148 320.71,150.5058 C320.8876,150.3922 321.0667,150.2776 321.2473,150.162 \" fill=\"none\" id=\"E3-E2\" style=\"stroke:#181818;stroke-width:1.0;stroke-dasharray:7.0,7.0;\"/></a></g><!--MD5=[a919e0967d6f3de553dc51b9865a1d6d]\n",
       "link E10 to E7--><g id=\"link_E10_E7\"><a href=\"psysml:a6db6e7d-5965-425e-9eb3-7112c85bb330\" target=\"_top\" title=\"psysml:a6db6e7d-5965-425e-9eb3-7112c85bb330\" xlink:actuate=\"onRequest\" xlink:href=\"psysml:a6db6e7d-5965-425e-9eb3-7112c85bb330\" xlink:show=\"new\" xlink:title=\"psysml:a6db6e7d-5965-425e-9eb3-7112c85bb330\" xlink:type=\"simple\"><path d=\"M842.38,140.48 C869.15,135.98 892.86,132 892.86,132 C892.86,132 930.39,111.92 953.55,99.53 \" fill=\"none\" id=\"E10-E7\" style=\"stroke:#181818;stroke-width:1.0;stroke-dasharray:7.0,7.0;\"/></a></g><!--MD5=[dfaffb906826c3e5aca635516100ff21]\n",
       "link E5 to E8--><g id=\"link_E5_E8\"><a href=\"psysml:b442ac41-55be-44fa-8d00-a1fa451c9108\" target=\"_top\" title=\"psysml:b442ac41-55be-44fa-8d00-a1fa451c9108\" xlink:actuate=\"onRequest\" xlink:href=\"psysml:b442ac41-55be-44fa-8d00-a1fa451c9108\" xlink:show=\"new\" xlink:title=\"psysml:b442ac41-55be-44fa-8d00-a1fa451c9108\" xlink:type=\"simple\"><path d=\"M605.01,94.97 C629.75,94.82 736.17,94.18 760.77,94.03 \" fill=\"none\" id=\"E5-E8\" style=\"stroke:#181818;stroke-width:5.0;\"/><text fill=\"#000000\" font-family=\"sans-serif\" font-size=\"13\" lengthAdjust=\"spacing\" textLength=\"11\" x=\"629.86\" y=\"91.0669\">=</text><text fill=\"#000000\" font-family=\"sans-serif\" font-size=\"13\" lengthAdjust=\"spacing\" textLength=\"7\" x=\"745.8583\" y=\"112.3639\">*</text></a></g><!--MD5=[60ac2c0cde89d4308155b0484e57a8ec]\n",
       "link E9 to E6--><g id=\"link_E9_E6\"><a href=\"psysml:49afeda3-59c7-4b61-9b5f-ffa76dca577e\" target=\"_top\" title=\"psysml:49afeda3-59c7-4b61-9b5f-ffa76dca577e\" xlink:actuate=\"onRequest\" xlink:href=\"psysml:49afeda3-59c7-4b61-9b5f-ffa76dca577e\" xlink:show=\"new\" xlink:title=\"psysml:49afeda3-59c7-4b61-9b5f-ffa76dca577e\" xlink:type=\"simple\"><path d=\"M1069.53,68.69 C1059.26,60.17 1037.36,42 1037.36,42 C396.5,42 396.5,42 396.5,42 C396.5,42 210.11,77.62 176.62,84.02 \" fill=\"none\" id=\"E9-E6\" style=\"stroke:#181818;stroke-width:3.0;\"/><text fill=\"#000000\" font-family=\"sans-serif\" font-size=\"13\" lengthAdjust=\"spacing\" textLength=\"7\" x=\"184.5565\" y=\"101.5207\">*</text></a></g><!--MD5=[1eac42db15954b127d39b767eeb9b592]\n",
       "@startuml\r\n",
       "skin sysmlbw\r\n",
       "skinparam monochrome true\r\n",
       "skinparam wrapWidth 300\r\n",
       "hide circle\r\n",
       "left to right direction\r\n",
       "skinparam linetype polyline\r\n",
       "skinparam ranksep 10\r\n",
       "skinparam rectangle {\r\n",
       " backgroundColor<<block>> LightGreen\r\n",
       "}\r\n",
       "\r\n",
       "package \"Logical\" as E1  [[psysml:ce3bf99c-2b2c-46e4-a975-72aa17d0ac73 ]]  {\r\n",
       "rec usage \"part1: Part1\" as E2 [[psysml:36a94e26-1a6c-47ec-be0e-2f9c636c2740 ]] {\r\n",
       "comp usage \"attribute2  \" as E4  <<(T,blue) attribute>> [[psysml:054f12e5-d164-4316-a067-67fa5239e580 ]] {\r\n",
       "}\r\n",
       "portout \"p1_1  \" as E5  <<(T,blue) port>> [[psysml:3d5054a3-deb3-4e7b-be85-9e5577ed311e ]] \r\n",
       "portin \"p1_2  \" as E6  <<(T,blue) port>> [[psysml:63eb4b5e-5327-43af-b2f8-1cc6a37ff394 ]] \r\n",
       "}\r\n",
       "rec usage \"part2: Part2\" as E7 [[psysml:e2290e44-8e0d-4fa6-8451-28366672eb22 ]] {\r\n",
       "portin \"p2_1  \" as E8  <<(T,blue) port>> [[psysml:f12de7ec-dece-4ec1-a458-ba3190d6c303 ]] \r\n",
       "portout \"p2_2  \" as E9  <<(T,blue) port>> [[psysml:98038eb4-a95b-4f14-b9d4-21765a64734c ]] \r\n",
       "}\r\n",
       "note as E3\r\n",
       "[[psysml:6c5c9897-67f3-4de6-a5d9-e77772f33724 @]]part1\r\n",
       "Part 1 is a part with the number one (1) appended.\r\n",
       "\r\n",
       "end note \r\n",
       "note as E10\r\n",
       "[[psysml:a6db6e7d-5965-425e-9eb3-7112c85bb330 @]]This is a comment about part 2\r\n",
       "end note \r\n",
       "}\r\n",
       "E3 .. E2 [[psysml:6c5c9897-67f3-4de6-a5d9-e77772f33724 ]] \r\n",
       "E10 .. E7 [[psysml:a6db6e7d-5965-425e-9eb3-7112c85bb330 ]] \r\n",
       "E5 -[thickness=5]- \"*\"E8 [[psysml:b442ac41-55be-44fa-8d00-a1fa451c9108 ]] : =\r\n",
       "E9 -[thickness=3]- \"*\"E6 [[psysml:49afeda3-59c7-4b61-9b5f-ffa76dca577e ]] \r\n",
       "@enduml\r\n",
       "\n",
       "PlantUML version 1.2022.7(Mon Aug 22 17:01:30 UTC 2022)\n",
       "(EPL source distribution)\n",
       "Java Runtime: OpenJDK Runtime Environment\n",
       "JVM: OpenJDK 64-Bit Server VM\n",
       "Default Encoding: UTF-8\n",
       "Language: en\n",
       "Country: US\n",
       "--></g></svg>"
      ]
     },
     "execution_count": 2,
     "metadata": {},
     "output_type": "execute_result"
    }
   ],
   "source": [
    "%viz --view INTERCONNECTION --style LR --style POLYLINE Model::Logical"
   ]
  },
  {
   "cell_type": "code",
   "execution_count": 3,
   "id": "478b588c",
   "metadata": {},
   "outputs": [
    {
     "data": {
      "image/svg+xml": [
       "<?xml version=\"1.0\" encoding=\"UTF-8\" standalone=\"no\"?><svg xmlns=\"http://www.w3.org/2000/svg\" xmlns:xlink=\"http://www.w3.org/1999/xlink\" contentStyleType=\"text/css\" height=\"431px\" preserveAspectRatio=\"none\" style=\"width:577px;height:431px;background:#FFFFFF;\" version=\"1.1\" viewBox=\"0 0 577 431\" width=\"577px\" zoomAndPan=\"magnify\"><defs/><g><!--MD5=[fbc87193dbaf4d95561dea2c320d4a47]\n",
       "cluster E1--><g id=\"cluster_E1\"><a href=\"psysml:ce3bf99c-2b2c-46e4-a975-72aa17d0ac73\" target=\"_top\" title=\"psysml:ce3bf99c-2b2c-46e4-a975-72aa17d0ac73\" xlink:actuate=\"onRequest\" xlink:href=\"psysml:ce3bf99c-2b2c-46e4-a975-72aa17d0ac73\" xlink:show=\"new\" xlink:title=\"psysml:ce3bf99c-2b2c-46e4-a975-72aa17d0ac73\" xlink:type=\"simple\"><path d=\"M8.5,6 L64.5,6 A3.75,3.75 0 0 1 67,8.5 L74,28.2969 L567.5,28.2969 A2.5,2.5 0 0 1 570,30.7969 L570,421.72 A2.5,2.5 0 0 1 567.5,424.22 L8.5,424.22 A2.5,2.5 0 0 1 6,421.72 L6,8.5 A2.5,2.5 0 0 1 8.5,6 \" fill=\"none\" style=\"stroke:#000000;stroke-width:1.5;\"/><line style=\"stroke:#000000;stroke-width:1.5;\" x1=\"6\" x2=\"74\" y1=\"28.2969\" y2=\"28.2969\"/><text fill=\"#000000\" font-family=\"sans-serif\" font-size=\"14\" font-weight=\"bold\" lengthAdjust=\"spacing\" textLength=\"55\" x=\"10\" y=\"20.9951\">Logical</text></a></g><!--MD5=[e4f7fae6ed58524ba242bb0b0d3be6b7]\n",
       "cluster E2--><g id=\"cluster_E2\"><a href=\"psysml:36a94e26-1a6c-47ec-be0e-2f9c636c2740\" target=\"_top\" title=\"psysml:36a94e26-1a6c-47ec-be0e-2f9c636c2740\" xlink:actuate=\"onRequest\" xlink:href=\"psysml:36a94e26-1a6c-47ec-be0e-2f9c636c2740\" xlink:show=\"new\" xlink:title=\"psysml:36a94e26-1a6c-47ec-be0e-2f9c636c2740\" xlink:type=\"simple\"><rect fill=\"#FFFFFF\" height=\"169.36\" id=\"E2\" rx=\"10\" ry=\"10\" style=\"stroke:#A80036;stroke-width:1.5;\" width=\"158\" x=\"382\" y=\"68.5\"/><rect fill=\"#F1F1F1\" height=\"26.2969\" rx=\"10\" ry=\"10\" style=\"stroke:#F1F1F1;stroke-width:1.5;\" width=\"158\" x=\"382\" y=\"68.5\"/><rect fill=\"#F1F1F1\" height=\"10\" style=\"stroke:#F1F1F1;stroke-width:1.5;\" width=\"158\" x=\"382\" y=\"84.7969\"/><rect fill=\"none\" height=\"169.36\" id=\"E2\" rx=\"10\" ry=\"10\" style=\"stroke:#A80036;stroke-width:1.5;\" width=\"158\" x=\"382\" y=\"68.5\"/><text fill=\"#000000\" font-family=\"sans-serif\" font-size=\"14\" lengthAdjust=\"spacing\" textLength=\"81\" x=\"420.5\" y=\"86.4951\">part1: Part1</text><line style=\"stroke:#A80036;stroke-width:1.0;\" x1=\"382\" x2=\"540\" y1=\"94.7969\" y2=\"94.7969\"/></a></g><!--MD5=[168fadf3d0c3fd93dd5d6da1b1d7ab76]\n",
       "cluster E7--><g id=\"cluster_E7\"><a href=\"psysml:e2290e44-8e0d-4fa6-8451-28366672eb22\" target=\"_top\" title=\"psysml:e2290e44-8e0d-4fa6-8451-28366672eb22\" xlink:actuate=\"onRequest\" xlink:href=\"psysml:e2290e44-8e0d-4fa6-8451-28366672eb22\" xlink:show=\"new\" xlink:title=\"psysml:e2290e44-8e0d-4fa6-8451-28366672eb22\" xlink:type=\"simple\"><rect fill=\"#FFFFFF\" height=\"96.36\" id=\"E7\" rx=\"10\" ry=\"10\" style=\"stroke:#A80036;stroke-width:1.5;\" width=\"157\" x=\"382\" y=\"289.86\"/><rect fill=\"#F1F1F1\" height=\"26.2969\" rx=\"10\" ry=\"10\" style=\"stroke:#F1F1F1;stroke-width:1.5;\" width=\"157\" x=\"382\" y=\"289.86\"/><rect fill=\"#F1F1F1\" height=\"10\" style=\"stroke:#F1F1F1;stroke-width:1.5;\" width=\"157\" x=\"382\" y=\"306.1569\"/><rect fill=\"none\" height=\"96.36\" id=\"E7\" rx=\"10\" ry=\"10\" style=\"stroke:#A80036;stroke-width:1.5;\" width=\"157\" x=\"382\" y=\"289.86\"/><text fill=\"#000000\" font-family=\"sans-serif\" font-size=\"14\" lengthAdjust=\"spacing\" textLength=\"81\" x=\"420\" y=\"307.8551\">part2: Part2</text><line style=\"stroke:#A80036;stroke-width:1.0;\" x1=\"382\" x2=\"539\" y1=\"316.1569\" y2=\"316.1569\"/></a></g><g id=\"elem_E3\"><path d=\"M21.5,41 L21.5,96.3984 L366.5,96.3984 L366.5,51 L356.5,41 L21.5,41 \" fill=\"#FEFFDD\" style=\"stroke:#181818;stroke-width:0.5;\"/><path d=\"M356.5,41 L356.5,51 L366.5,51 L356.5,41 \" fill=\"#FEFFDD\" style=\"stroke:#181818;stroke-width:1.0;\"/><a href=\"psysml:6c5c9897-67f3-4de6-a5d9-e77772f33724\" target=\"_top\" title=\"psysml:6c5c9897-67f3-4de6-a5d9-e77772f33724\" xlink:actuate=\"onRequest\" xlink:href=\"psysml:6c5c9897-67f3-4de6-a5d9-e77772f33724\" xlink:show=\"new\" xlink:title=\"psysml:6c5c9897-67f3-4de6-a5d9-e77772f33724\" xlink:type=\"simple\"><text fill=\"#0000FF\" font-family=\"sans-serif\" font-size=\"13\" lengthAdjust=\"spacing\" text-decoration=\"underline\" textLength=\"13\" x=\"27.5\" y=\"58.0669\">@</text></a><text fill=\"#000000\" font-family=\"sans-serif\" font-size=\"13\" lengthAdjust=\"spacing\" textLength=\"34\" x=\"40.5\" y=\"58.0669\">part1</text><text fill=\"#000000\" font-family=\"sans-serif\" font-size=\"13\" lengthAdjust=\"spacing\" textLength=\"324\" x=\"27.5\" y=\"73.1997\">Part 1 is a part with the number one (1) appended.</text><text fill=\"#000000\" font-family=\"sans-serif\" font-size=\"13\" lengthAdjust=\"spacing\" textLength=\"4\" x=\"27.5\" y=\"88.3325\"> </text></g><g id=\"elem_E10\"><path d=\"M132,277.36 L132,302.4928 L366,302.4928 L366,287.36 L356,277.36 L132,277.36 \" fill=\"#FEFFDD\" style=\"stroke:#181818;stroke-width:0.5;\"/><path d=\"M356,277.36 L356,287.36 L366,287.36 L356,277.36 \" fill=\"#FEFFDD\" style=\"stroke:#181818;stroke-width:1.0;\"/><a href=\"psysml:a6db6e7d-5965-425e-9eb3-7112c85bb330\" target=\"_top\" title=\"psysml:a6db6e7d-5965-425e-9eb3-7112c85bb330\" xlink:actuate=\"onRequest\" xlink:href=\"psysml:a6db6e7d-5965-425e-9eb3-7112c85bb330\" xlink:show=\"new\" xlink:title=\"psysml:a6db6e7d-5965-425e-9eb3-7112c85bb330\" xlink:type=\"simple\"><text fill=\"#0000FF\" font-family=\"sans-serif\" font-size=\"13\" lengthAdjust=\"spacing\" text-decoration=\"underline\" textLength=\"13\" x=\"138\" y=\"294.4269\">@</text></a><text fill=\"#000000\" font-family=\"sans-serif\" font-size=\"13\" lengthAdjust=\"spacing\" textLength=\"200\" x=\"151\" y=\"294.4269\">This is a comment about part 2</text></g><!--MD5=[ebbe1d658d1005bcc118a6aa81145e00]\n",
       "class E4--><a href=\"psysml:054f12e5-d164-4316-a067-67fa5239e580\" target=\"_top\" title=\"psysml:054f12e5-d164-4316-a067-67fa5239e580\" xlink:actuate=\"onRequest\" xlink:href=\"psysml:054f12e5-d164-4316-a067-67fa5239e580\" xlink:show=\"new\" xlink:title=\"psysml:054f12e5-d164-4316-a067-67fa5239e580\" xlink:type=\"simple\"><g id=\"elem_E4\"><rect fill=\"#F1F1F1\" height=\"48.2656\" id=\"E4\" rx=\"10\" ry=\"10\" style=\"stroke:#181818;stroke-width:0.5;\" width=\"107\" x=\"407.5\" y=\"149\"/><ellipse cx=\"422.5\" cy=\"169.1328\" fill=\"#FFA500\" rx=\"11\" ry=\"11\" style=\"stroke:#181818;stroke-width:1.0;\"/><path d=\"M422.6406,175.8359 C425.3125,175.8359 426.6094,174.2422 426.6094,171.3672 L426.6094,164.5547 L424.2031,164.5547 L424.2031,171.6172 C424.2031,172.9453 423.6875,173.6797 422.6406,173.6797 C421.5781,173.6797 421.0938,172.9453 421.0938,171.6172 L421.0938,164.5547 L418.5938,164.5547 L418.5938,171.3672 C418.5938,174.2422 419.9375,175.8359 422.6406,175.8359 Z \" fill=\"#000000\"/><text fill=\"#000000\" font-family=\"sans-serif\" font-size=\"12\" font-style=\"italic\" lengthAdjust=\"spacing\" textLength=\"69\" x=\"439.5\" y=\"165.1387\">«attribute»</text><text fill=\"#000000\" font-family=\"sans-serif\" font-size=\"14\" lengthAdjust=\"spacing\" textLength=\"67\" x=\"436.5\" y=\"180.9639\">attribute2</text><line style=\"stroke:#181818;stroke-width:0.5;\" x1=\"408.5\" x2=\"513.5\" y1=\"189.2656\" y2=\"189.2656\"/></g></a><text fill=\"#000000\" font-family=\"sans-serif\" font-size=\"14\" lengthAdjust=\"spacing\" textLength=\"34\" x=\"440\" y=\"256.8551\">p1_1</text><rect fill=\"#F1F1F1\" height=\"12\" style=\"stroke:#181818;stroke-width:1.5;\" width=\"12\" x=\"455\" y=\"231.86\"/><text fill=\"#000000\" font-family=\"sans-serif\" font-size=\"14\" lengthAdjust=\"spacing\" textLength=\"34\" x=\"472\" y=\"47.1982\">p1_2</text><rect fill=\"#F1F1F1\" height=\"12\" style=\"stroke:#181818;stroke-width:1.5;\" width=\"12\" x=\"487\" y=\"62.5\"/><text fill=\"#000000\" font-family=\"sans-serif\" font-size=\"14\" lengthAdjust=\"spacing\" textLength=\"34\" x=\"440\" y=\"268.5582\">p2_1</text><rect fill=\"#F1F1F1\" height=\"12\" style=\"stroke:#181818;stroke-width:1.5;\" width=\"12\" x=\"455\" y=\"283.86\"/><text fill=\"#000000\" font-family=\"sans-serif\" font-size=\"14\" lengthAdjust=\"spacing\" textLength=\"34\" x=\"500\" y=\"405.2151\">p2_2</text><rect fill=\"#F1F1F1\" height=\"12\" style=\"stroke:#181818;stroke-width:1.5;\" width=\"12\" x=\"515\" y=\"380.22\"/><!--MD5=[05d275557350bfb9b23a4ef7222b4c39]\n",
       "link E3 to E2--><g id=\"link_E3_E2\"><a href=\"psysml:6c5c9897-67f3-4de6-a5d9-e77772f33724\" target=\"_top\" title=\"psysml:6c5c9897-67f3-4de6-a5d9-e77772f33724\" xlink:actuate=\"onRequest\" xlink:href=\"psysml:6c5c9897-67f3-4de6-a5d9-e77772f33724\" xlink:show=\"new\" xlink:title=\"psysml:6c5c9897-67f3-4de6-a5d9-e77772f33724\" xlink:type=\"simple\"><path d=\"M366.78,86.22 C369.5413,86.22 372.2678,86.22 374.9531,86.22 C376.2958,86.22 377.6282,86.22 378.9495,86.22 C379.6101,86.22 380.268,86.22 380.923,86.22 C381.2505,86.22 381.5772,86.22 381.9033,86.22 \" fill=\"none\" id=\"E3-E2\" style=\"stroke:#181818;stroke-width:1.0;stroke-dasharray:7.0,7.0;\"/></a></g><!--MD5=[a919e0967d6f3de553dc51b9865a1d6d]\n",
       "link E10 to E7--><g id=\"link_E10_E7\"><a href=\"psysml:a6db6e7d-5965-425e-9eb3-7112c85bb330\" target=\"_top\" title=\"psysml:a6db6e7d-5965-425e-9eb3-7112c85bb330\" xlink:actuate=\"onRequest\" xlink:href=\"psysml:a6db6e7d-5965-425e-9eb3-7112c85bb330\" xlink:show=\"new\" xlink:title=\"psysml:a6db6e7d-5965-425e-9eb3-7112c85bb330\" xlink:type=\"simple\"><path d=\"M366.23,290.22 C370.6513,290.22 374.9831,290.22 379.1789,290.22 C379.7034,290.22 380.2257,290.22 380.7458,290.22 C381.0059,290.22 381.2654,290.22 381.5243,290.22 C381.6538,290.22 381.7831,290.22 381.9123,290.22 \" fill=\"none\" id=\"E10-E7\" style=\"stroke:#181818;stroke-width:1.0;stroke-dasharray:7.0,7.0;\"/></a></g><!--MD5=[dfaffb906826c3e5aca635516100ff21]\n",
       "link E5 to E8--><g id=\"link_E5_E8\"><a href=\"psysml:b442ac41-55be-44fa-8d00-a1fa451c9108\" target=\"_top\" title=\"psysml:b442ac41-55be-44fa-8d00-a1fa451c9108\" xlink:actuate=\"onRequest\" xlink:href=\"psysml:b442ac41-55be-44fa-8d00-a1fa451c9108\" xlink:show=\"new\" xlink:title=\"psysml:b442ac41-55be-44fa-8d00-a1fa451c9108\" xlink:type=\"simple\"><path d=\"M461,244.24 C461,254.32 461,273.84 461,283.75 \" fill=\"none\" id=\"E5-E8\" style=\"stroke:#FF0000;stroke-width:5.0;\"/><text fill=\"#000000\" font-family=\"sans-serif\" font-size=\"13\" lengthAdjust=\"spacing\" textLength=\"11\" x=\"449\" y=\"260.0669\">=</text><text fill=\"#000000\" font-family=\"sans-serif\" font-size=\"13\" lengthAdjust=\"spacing\" textLength=\"7\" x=\"451.9438\" y=\"272.86\">*</text></a></g><!--MD5=[60ac2c0cde89d4308155b0484e57a8ec]\n",
       "link E9 to E6--><g id=\"link_E9_E6\"><a href=\"psysml:49afeda3-59c7-4b61-9b5f-ffa76dca577e\" target=\"_top\" title=\"psysml:49afeda3-59c7-4b61-9b5f-ffa76dca577e\" xlink:actuate=\"onRequest\" xlink:href=\"psysml:49afeda3-59c7-4b61-9b5f-ffa76dca577e\" xlink:show=\"new\" xlink:title=\"psysml:49afeda3-59c7-4b61-9b5f-ffa76dca577e\" xlink:type=\"simple\"><path d=\"M522,380.17 C522,336.35 522,69.22 522,69.22 C522,69.22 507.66,69.22 499.15,69.22 \" fill=\"none\" id=\"E9-E6\" style=\"stroke:#181818;stroke-width:3.0;\"/><text fill=\"#000000\" font-family=\"sans-serif\" font-size=\"13\" lengthAdjust=\"spacing\" textLength=\"7\" x=\"507.1112\" y=\"60.7482\">*</text></a></g><!--MD5=[a117accf71cf0b133c5cf918c1107135]\n",
       "@startuml\r\n",
       " skinparam linetype ortho\r\n",
       "skinparam ranksep 10\r\n",
       "skinparam rectangle {\r\n",
       " backgroundColor<<block>> LightGreen\r\n",
       "}\r\n",
       "\r\n",
       "package \"Logical\" as E1  [[psysml:ce3bf99c-2b2c-46e4-a975-72aa17d0ac73 ]]  {\r\n",
       "rec usage \"part1: Part1\" as E2 [[psysml:36a94e26-1a6c-47ec-be0e-2f9c636c2740 ]] {\r\n",
       "comp usage \"attribute2  \" as E4  << <<(U,orange) attribute>> [[psysml:054f12e5-d164-4316-a067-67fa5239e580 ]] {\r\n",
       "}\r\n",
       "portout \"p1_1  \" as E5  << << (P,blue) port>> [[psysml:3d5054a3-deb3-4e7b-be85-9e5577ed311e ]] \r\n",
       "portin \"p1_2  \" as E6  << << (P,blue) port>> [[psysml:63eb4b5e-5327-43af-b2f8-1cc6a37ff394 ]] \r\n",
       "}\r\n",
       "rec usage \"part2: Part2\" as E7 [[psysml:e2290e44-8e0d-4fa6-8451-28366672eb22 ]] {\r\n",
       "portin \"p2_1  \" as E8  << << (P,blue) port>> [[psysml:f12de7ec-dece-4ec1-a458-ba3190d6c303 ]] \r\n",
       "portout \"p2_2  \" as E9  << << (P,blue) port>> [[psysml:98038eb4-a95b-4f14-b9d4-21765a64734c ]] \r\n",
       "}\r\n",
       "note as E3\r\n",
       "[[psysml:6c5c9897-67f3-4de6-a5d9-e77772f33724 @]]part1\r\n",
       "Part 1 is a part with the number one (1) appended.\r\n",
       "\r\n",
       "end note \r\n",
       "note as E10\r\n",
       "[[psysml:a6db6e7d-5965-425e-9eb3-7112c85bb330 @]]This is a comment about part 2\r\n",
       "end note \r\n",
       "}\r\n",
       "E3 .. E2 [[psysml:6c5c9897-67f3-4de6-a5d9-e77772f33724 ]] \r\n",
       "E10 .. E7 [[psysml:a6db6e7d-5965-425e-9eb3-7112c85bb330 ]] \r\n",
       "E5 -[thickness=5,#red]- \"*\"E8 [[psysml:b442ac41-55be-44fa-8d00-a1fa451c9108 ]] : =\r\n",
       "E9 -[thickness=3]- \"*\"E6 [[psysml:49afeda3-59c7-4b61-9b5f-ffa76dca577e ]] \r\n",
       "@enduml\r\n",
       "\n",
       "PlantUML version 1.2022.7(Mon Aug 22 17:01:30 UTC 2022)\n",
       "(EPL source distribution)\n",
       "Java Runtime: OpenJDK Runtime Environment\n",
       "JVM: OpenJDK 64-Bit Server VM\n",
       "Default Encoding: UTF-8\n",
       "Language: en\n",
       "Country: US\n",
       "--></g></svg>"
      ]
     },
     "execution_count": 3,
     "metadata": {},
     "output_type": "execute_result"
    }
   ],
   "source": [
    "%viz --style PLANTUML --style ORTHOLINE Model::Logical"
   ]
  },
  {
   "cell_type": "code",
   "execution_count": null,
   "id": "e0fd393f",
   "metadata": {},
   "outputs": [],
   "source": []
  }
 ],
 "metadata": {
  "kernelspec": {
   "display_name": "SysML",
   "language": "sysml",
   "name": "sysml"
  },
  "language_info": {
   "codemirror_mode": "sysml",
   "file_extension": ".sysml",
   "mimetype": "text/x-sysml",
   "name": "SysML",
   "pygments_lexer": "java",
   "version": "1.0.0"
  }
 },
 "nbformat": 4,
 "nbformat_minor": 5
}
