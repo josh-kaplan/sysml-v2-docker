{
 "cells": [
  {
   "cell_type": "markdown",
   "id": "7a63412e",
   "metadata": {},
   "source": [
    "# Parts"
   ]
  },
  {
   "cell_type": "code",
   "execution_count": 1,
   "id": "f77e2ab2",
   "metadata": {},
   "outputs": [
    {
     "data": {
      "text/plain": [
       "Package SimpleModel (9009daa1-ecd7-43e1-858d-46af2a2f6ca7)\n"
      ]
     },
     "execution_count": 1,
     "metadata": {},
     "output_type": "execute_result"
    }
   ],
   "source": [
    "package SimpleModel {\n",
    "    \n",
    "    part 'Application Layer';\n",
    "    part 'Service Layer';\n",
    "    part 'Data Layer';\n",
    "\n",
    "\n",
    "    dependency Use from 'Application Layer' to 'Service Layer';\n",
    "    dependency from 'Service Layer' to 'Data Layer';\n",
    "\n",
    "}"
   ]
  },
  {
   "cell_type": "code",
   "execution_count": 2,
   "id": "ed8dc72e",
   "metadata": {},
   "outputs": [
    {
     "data": {
      "image/svg+xml": [
       "<?xml version=\"1.0\" encoding=\"UTF-8\" standalone=\"no\"?><svg xmlns=\"http://www.w3.org/2000/svg\" xmlns:xlink=\"http://www.w3.org/1999/xlink\" contentStyleType=\"text/css\" height=\"362px\" preserveAspectRatio=\"none\" style=\"width:195px;height:362px;background:#FFFFFF;\" version=\"1.1\" viewBox=\"0 0 195 362\" width=\"195px\" zoomAndPan=\"magnify\"><defs/><g><!--MD5=[fbc87193dbaf4d95561dea2c320d4a47]\n",
       "cluster E1--><g id=\"cluster_E1\"><a href=\"psysml:9009daa1-ecd7-43e1-858d-46af2a2f6ca7\" target=\"_top\" title=\"psysml:9009daa1-ecd7-43e1-858d-46af2a2f6ca7\" xlink:actuate=\"onRequest\" xlink:href=\"psysml:9009daa1-ecd7-43e1-858d-46af2a2f6ca7\" xlink:show=\"new\" xlink:title=\"psysml:9009daa1-ecd7-43e1-858d-46af2a2f6ca7\" xlink:type=\"simple\"><polygon fill=\"none\" points=\"16,6,121,6,128,28.2969,178,28.2969,178,355,16,355,16,6\" style=\"stroke:#000000;stroke-width:1.5;\"/><line style=\"stroke:#000000;stroke-width:1.5;\" x1=\"16\" x2=\"128\" y1=\"28.2969\" y2=\"28.2969\"/><text fill=\"#000000\" font-family=\"sans-serif\" font-size=\"14\" font-weight=\"bold\" lengthAdjust=\"spacing\" textLength=\"99\" x=\"20\" y=\"20.9951\">SimpleModel</text></a></g><!--MD5=[b4997ac47864f28c2f74865a473b2911]\n",
       "class E2--><a href=\"psysml:c4655756-5b4b-4f19-8c80-5614974c4e88\" target=\"_top\" title=\"psysml:c4655756-5b4b-4f19-8c80-5614974c4e88\" xlink:actuate=\"onRequest\" xlink:href=\"psysml:c4655756-5b4b-4f19-8c80-5614974c4e88\" xlink:show=\"new\" xlink:title=\"psysml:c4655756-5b4b-4f19-8c80-5614974c4e88\" xlink:type=\"simple\"><g id=\"elem_E2\"><rect fill=\"#FFFFFF\" height=\"48.2656\" id=\"E2\" rx=\"10\" ry=\"10\" style=\"stroke:#181818;stroke-width:0.5;\" width=\"129\" x=\"32.5\" y=\"41\"/><text fill=\"#000000\" font-family=\"sans-serif\" font-size=\"12\" font-style=\"italic\" lengthAdjust=\"spacing\" textLength=\"40\" x=\"77\" y=\"57.1387\">«part»</text><text fill=\"#000000\" font-family=\"sans-serif\" font-size=\"14\" lengthAdjust=\"spacing\" textLength=\"115\" x=\"35.5\" y=\"72.9639\">Application Layer</text><line style=\"stroke:#181818;stroke-width:0.5;\" x1=\"33.5\" x2=\"160.5\" y1=\"81.2656\" y2=\"81.2656\"/></g></a><!--MD5=[09b614a08d8cba4a07c9adeb5e0fee81]\n",
       "class E3--><a href=\"psysml:291cb326-bba2-4b7f-8dd2-52c9a89aefc6\" target=\"_top\" title=\"psysml:291cb326-bba2-4b7f-8dd2-52c9a89aefc6\" xlink:actuate=\"onRequest\" xlink:href=\"psysml:291cb326-bba2-4b7f-8dd2-52c9a89aefc6\" xlink:show=\"new\" xlink:title=\"psysml:291cb326-bba2-4b7f-8dd2-52c9a89aefc6\" xlink:type=\"simple\"><g id=\"elem_E3\"><rect fill=\"#FFFFFF\" height=\"48.2656\" id=\"E3\" rx=\"10\" ry=\"10\" style=\"stroke:#181818;stroke-width:0.5;\" width=\"104\" x=\"44\" y=\"166\"/><text fill=\"#000000\" font-family=\"sans-serif\" font-size=\"12\" font-style=\"italic\" lengthAdjust=\"spacing\" textLength=\"40\" x=\"76\" y=\"182.1387\">«part»</text><text fill=\"#000000\" font-family=\"sans-serif\" font-size=\"14\" lengthAdjust=\"spacing\" textLength=\"90\" x=\"47\" y=\"197.9639\">Service Layer</text><line style=\"stroke:#181818;stroke-width:0.5;\" x1=\"45\" x2=\"147\" y1=\"206.2656\" y2=\"206.2656\"/></g></a><!--MD5=[ebbe1d658d1005bcc118a6aa81145e00]\n",
       "class E4--><a href=\"psysml:bd5def50-9801-4fba-b5c0-f08277375210\" target=\"_top\" title=\"psysml:bd5def50-9801-4fba-b5c0-f08277375210\" xlink:actuate=\"onRequest\" xlink:href=\"psysml:bd5def50-9801-4fba-b5c0-f08277375210\" xlink:show=\"new\" xlink:title=\"psysml:bd5def50-9801-4fba-b5c0-f08277375210\" xlink:type=\"simple\"><g id=\"elem_E4\"><rect fill=\"#FFFFFF\" height=\"48.2656\" id=\"E4\" rx=\"10\" ry=\"10\" style=\"stroke:#181818;stroke-width:0.5;\" width=\"86\" x=\"53\" y=\"291\"/><text fill=\"#000000\" font-family=\"sans-serif\" font-size=\"12\" font-style=\"italic\" lengthAdjust=\"spacing\" textLength=\"40\" x=\"76\" y=\"307.1387\">«part»</text><text fill=\"#000000\" font-family=\"sans-serif\" font-size=\"14\" lengthAdjust=\"spacing\" textLength=\"72\" x=\"56\" y=\"322.9639\">Data Layer</text><line style=\"stroke:#181818;stroke-width:0.5;\" x1=\"54\" x2=\"138\" y1=\"331.2656\" y2=\"331.2656\"/></g></a><!--MD5=[2720a5a1f2c3fca2055b230370638851]\n",
       "link E2 to E3--><g id=\"link_E2_E3\"><a href=\"psysml:e0f67793-bf16-41fd-a0e6-53e2f24ffc70\" target=\"_top\" title=\"psysml:e0f67793-bf16-41fd-a0e6-53e2f24ffc70\" xlink:actuate=\"onRequest\" xlink:href=\"psysml:e0f67793-bf16-41fd-a0e6-53e2f24ffc70\" xlink:show=\"new\" xlink:title=\"psysml:e0f67793-bf16-41fd-a0e6-53e2f24ffc70\" xlink:type=\"simple\"><path d=\"M96.81,89.14 C96.65,108.55 96.43,136.45 96.25,157.83 \" fill=\"none\" id=\"E2-to-E3\" style=\"stroke:#181818;stroke-width:1.0;stroke-dasharray:7.0,7.0;\"/><polygon fill=\"#181818\" points=\"96.19,165.97,99.2471,157.9916,93.2472,157.9488,96.19,165.97\" style=\"stroke:#181818;stroke-width:1.0;\"/><text fill=\"#000000\" font-family=\"sans-serif\" font-size=\"13\" lengthAdjust=\"spacing\" textLength=\"64\" x=\"97\" y=\"132.0669\">«depend»</text></a></g><!--MD5=[af87c684e3b0d8be13c1a698a818ef1e]\n",
       "link E3 to E4--><g id=\"link_E3_E4\"><a href=\"psysml:e6aac6db-49a4-4d49-914a-9f824c43b34d\" target=\"_top\" title=\"psysml:e6aac6db-49a4-4d49-914a-9f824c43b34d\" xlink:actuate=\"onRequest\" xlink:href=\"psysml:e6aac6db-49a4-4d49-914a-9f824c43b34d\" xlink:show=\"new\" xlink:title=\"psysml:e6aac6db-49a4-4d49-914a-9f824c43b34d\" xlink:type=\"simple\"><path d=\"M96,214.14 C96,233.55 96,261.45 96,282.83 \" fill=\"none\" id=\"E3-to-E4\" style=\"stroke:#181818;stroke-width:1.0;stroke-dasharray:7.0,7.0;\"/><polygon fill=\"#181818\" points=\"96,290.97,99,282.97,93,282.97,96,290.97\" style=\"stroke:#181818;stroke-width:1.0;\"/><text fill=\"#000000\" font-family=\"sans-serif\" font-size=\"13\" lengthAdjust=\"spacing\" textLength=\"64\" x=\"97\" y=\"257.0669\">«depend»</text></a></g><!--MD5=[5c48bcfa1efc994d21efc95eb6ce7a47]\n",
       "@startuml\r\n",
       "skin sysmlbw\r\n",
       "skinparam monochrome true\r\n",
       "skinparam wrapWidth 300\r\n",
       "hide circle\r\n",
       "\r\n",
       "package \"SimpleModel\" as E1  [[psysml:9009daa1-ecd7-43e1-858d-46af2a2f6ca7 ]]  {\r\n",
       "comp usage \"Application Layer  \" as E2  <<(T,blue) part>> [[psysml:c4655756-5b4b-4f19-8c80-5614974c4e88 ]] {\r\n",
       "}\r\n",
       "comp usage \"Service Layer  \" as E3  <<(T,blue) part>> [[psysml:291cb326-bba2-4b7f-8dd2-52c9a89aefc6 ]] {\r\n",
       "}\r\n",
       "comp usage \"Data Layer  \" as E4  <<(T,blue) part>> [[psysml:bd5def50-9801-4fba-b5c0-f08277375210 ]] {\r\n",
       "}\r\n",
       "}\r\n",
       "E2 ..>> E3 [[psysml:e0f67793-bf16-41fd-a0e6-53e2f24ffc70 ]] : <<depend>>\r\n",
       "E3 ..>> E4 [[psysml:e6aac6db-49a4-4d49-914a-9f824c43b34d ]] : <<depend>>\r\n",
       "@enduml\r\n",
       "\n",
       "PlantUML version 1.2022.7(Mon Aug 22 17:01:30 UTC 2022)\n",
       "(EPL source distribution)\n",
       "Java Runtime: OpenJDK Runtime Environment\n",
       "JVM: OpenJDK 64-Bit Server VM\n",
       "Default Encoding: UTF-8\n",
       "Language: en\n",
       "Country: US\n",
       "--></g></svg>"
      ]
     },
     "execution_count": 2,
     "metadata": {},
     "output_type": "execute_result"
    }
   ],
   "source": [
    "%viz SimpleModel"
   ]
  },
  {
   "cell_type": "code",
   "execution_count": null,
   "id": "fc0df381",
   "metadata": {},
   "outputs": [],
   "source": []
  }
 ],
 "metadata": {
  "kernelspec": {
   "display_name": "SysML",
   "language": "sysml",
   "name": "sysml"
  },
  "language_info": {
   "codemirror_mode": "sysml",
   "file_extension": ".sysml",
   "mimetype": "text/x-sysml",
   "name": "SysML",
   "pygments_lexer": "java",
   "version": "1.0.0"
  }
 },
 "nbformat": 4,
 "nbformat_minor": 5
}
